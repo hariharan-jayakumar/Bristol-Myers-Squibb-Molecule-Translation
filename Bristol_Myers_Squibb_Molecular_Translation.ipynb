{
  "nbformat": 4,
  "nbformat_minor": 0,
  "metadata": {
    "colab": {
      "name": "Bristol-Myers Squibb - Molecular Translation.ipynb",
      "provenance": [],
      "toc_visible": true,
      "mount_file_id": "1vT6fMZ03EQM2yYt9CZpsVFKWbtE0MW_v",
      "authorship_tag": "ABX9TyNFfdKDOiQuNwdZbneuHBrH",
      "include_colab_link": true
    },
    "kernelspec": {
      "name": "python3",
      "display_name": "Python 3"
    },
    "language_info": {
      "name": "python"
    }
  },
  "cells": [
    {
      "cell_type": "markdown",
      "metadata": {
        "id": "view-in-github",
        "colab_type": "text"
      },
      "source": [
        "<a href=\"https://colab.research.google.com/github/hariharan-jayakumar/Bristol-Myers-Squibb-Molecule-Translation/blob/main/Bristol_Myers_Squibb_Molecular_Translation.ipynb\" target=\"_parent\"><img src=\"https://colab.research.google.com/assets/colab-badge.svg\" alt=\"Open In Colab\"/></a>"
      ]
    },
    {
      "cell_type": "markdown",
      "metadata": {
        "id": "HiRJvk94cNCV"
      },
      "source": [
        "# Setting up the Kaggle environment"
      ]
    },
    {
      "cell_type": "markdown",
      "metadata": {
        "id": "Y7yeqM3qcTlG"
      },
      "source": [
        "Source: https://www.kaggle.com/general/74235"
      ]
    },
    {
      "cell_type": "code",
      "metadata": {
        "id": "YDkJNyckblpD"
      },
      "source": [
        "!pip install -q kaggle"
      ],
      "execution_count": null,
      "outputs": []
    },
    {
      "cell_type": "code",
      "metadata": {
        "id": "juPSKYgTcXpx"
      },
      "source": [
        "! mkdir ~/.kaggle"
      ],
      "execution_count": null,
      "outputs": []
    },
    {
      "cell_type": "code",
      "metadata": {
        "id": "IEDZdQkGcpqD"
      },
      "source": [
        "! cp kaggle.json ~/.kaggle/"
      ],
      "execution_count": null,
      "outputs": []
    },
    {
      "cell_type": "code",
      "metadata": {
        "id": "gnZdgmUxcxAi"
      },
      "source": [
        "! chmod 600 ~/.kaggle/kaggle.json"
      ],
      "execution_count": null,
      "outputs": []
    },
    {
      "cell_type": "code",
      "metadata": {
        "colab": {
          "base_uri": "https://localhost:8080/"
        },
        "id": "pf0uMi4mczUw",
        "outputId": "48c7e9c9-8ebc-4c32-b6c8-01a71c3e1f92"
      },
      "source": [
        "! kaggle datasets list"
      ],
      "execution_count": null,
      "outputs": [
        {
          "output_type": "stream",
          "text": [
            "Warning: Looks like you're using an outdated API Version, please consider updating (server 1.5.12 / client 1.5.4)\n",
            "ref                                                         title                                              size  lastUpdated          downloadCount  \n",
            "----------------------------------------------------------  ------------------------------------------------  -----  -------------------  -------------  \n",
            "gpreda/reddit-vaccine-myths                                 Reddit Vaccine Myths                              221KB  2021-03-27 10:37:28           1096  \n",
            "crowww/a-large-scale-fish-dataset                           A Large Scale Fish Dataset                          3GB  2021-02-17 16:10:44            829  \n",
            "dhruvildave/wikibooks-dataset                               Wikibooks Dataset                                   1GB  2021-02-18 10:08:27            729  \n",
            "imsparsh/musicnet-dataset                                   MusicNet Dataset                                   22GB  2021-02-18 14:12:19            321  \n",
            "alsgroup/end-als                                            End ALS Kaggle Challenge                           12GB  2021-03-16 22:31:35            129  \n",
            "simiotic/github-code-snippets                               GitHub Code Snippets                                7GB  2021-03-03 11:34:39             31  \n",
            "fatiimaezzahra/famous-iconic-women                          Famous Iconic Women                               838MB  2021-02-28 14:56:00            254  \n",
            "promptcloud/careerbuilder-job-listing-2020                  Careerbuilder Job Listing 2020                     42MB  2021-03-05 06:59:52             81  \n",
            "mathurinache/twitter-edge-nodes                             Twitter Edge Nodes                                342MB  2021-03-08 06:43:04             50  \n",
            "nickuzmenkov/nih-chest-xrays-tfrecords                      NIH Chest X-rays TFRecords                         11GB  2021-03-09 04:49:23            154  \n",
            "mathurinache/the-lj-speech-dataset                          The LJ Speech Dataset                               3GB  2021-02-15 09:19:54             62  \n",
            "nickuzmenkov/ranzcr-clip-kfold-tfrecords                    RANZCR CLiP KFold TFRecords                         2GB  2021-02-21 13:29:51             41  \n",
            "coloradokb/dandelionimages                                  DandelionImages                                     4GB  2021-02-19 20:03:47            111  \n",
            "imsparsh/accentdb-core-extended                             AccentDB - Core & Extended                          6GB  2021-02-17 14:22:54             25  \n",
            "landrykezebou/lvzhdr-tone-mapping-benchmark-dataset-tmonet  LVZ-HDR Tone Mapping Benchmark Dataset (TMO-Net)   24GB  2021-03-01 05:03:40             24  \n",
            "stuartjames/lights                                          LightS: Light Specularity Dataset                  18GB  2021-02-18 14:32:26             23  \n",
            "shivamb/netflix-shows                                       Netflix Movies and TV Shows                         1MB  2021-01-18 16:20:26         121847  \n",
            "jsphyg/weather-dataset-rattle-package                       Rain in Australia                                   4MB  2020-12-11 10:26:12          41440  \n",
            "arashnic/hr-analytics-job-change-of-data-scientists         HR Analytics: Job Change of Data Scientists       295KB  2020-12-07 00:25:10          17041  \n",
            "michau96/restaurant-business-rankings-2020                  Restaurant Business Rankings 2020                  16KB  2021-01-30 14:20:45          10647  \n"
          ],
          "name": "stdout"
        }
      ]
    },
    {
      "cell_type": "code",
      "metadata": {
        "colab": {
          "base_uri": "https://localhost:8080/"
        },
        "id": "Ws2IiKC8lVNb",
        "outputId": "483b2a1a-7d10-4d62-b94e-912122236a66"
      },
      "source": [
        "!kaggle competitions download -c bms-molecular-translation -p /content/drive/MyDrive/kaggle/molecular-translation"
      ],
      "execution_count": null,
      "outputs": [
        {
          "output_type": "stream",
          "text": [
            "Warning: Looks like you're using an outdated API Version, please consider updating (server 1.5.12 / client 1.5.4)\n",
            "Downloading 999024c1da66.png to /content/drive/MyDrive/kaggle/molecular-translation\n",
            "  0% 0.00/2.60k [00:00<?, ?B/s]\n",
            "100% 2.60k/2.60k [00:00<00:00, 365kB/s]\n",
            "Downloading 999047e52777.png to /content/drive/MyDrive/kaggle/molecular-translation\n",
            "  0% 0.00/1.89k [00:00<?, ?B/s]\n",
            "100% 1.89k/1.89k [00:00<00:00, 245kB/s]\n",
            "Downloading 9990677464f3.png to /content/drive/MyDrive/kaggle/molecular-translation\n",
            "  0% 0.00/1.32k [00:00<?, ?B/s]\n",
            "100% 1.32k/1.32k [00:00<00:00, 183kB/s]\n",
            "Downloading 9990393ebba0.png to /content/drive/MyDrive/kaggle/molecular-translation\n",
            "  0% 0.00/1.68k [00:00<?, ?B/s]\n",
            "100% 1.68k/1.68k [00:00<00:00, 220kB/s]\n",
            "Downloading 9990ee6e7f50.png to /content/drive/MyDrive/kaggle/molecular-translation\n",
            "  0% 0.00/1.16k [00:00<?, ?B/s]\n",
            "100% 1.16k/1.16k [00:00<00:00, 322kB/s]\n",
            "Downloading 999045440ffe.png to /content/drive/MyDrive/kaggle/molecular-translation\n",
            "  0% 0.00/1.84k [00:00<?, ?B/s]\n",
            "100% 1.84k/1.84k [00:00<00:00, 236kB/s]\n",
            "Downloading 999088cbd39f.png to /content/drive/MyDrive/kaggle/molecular-translation\n",
            "  0% 0.00/1.59k [00:00<?, ?B/s]\n",
            "100% 1.59k/1.59k [00:00<00:00, 222kB/s]\n",
            "Downloading 99908e0afc97.png to /content/drive/MyDrive/kaggle/molecular-translation\n",
            "  0% 0.00/1.17k [00:00<?, ?B/s]\n",
            "100% 1.17k/1.17k [00:00<00:00, 334kB/s]\n",
            "Downloading 999015d90af5.png to /content/drive/MyDrive/kaggle/molecular-translation\n",
            "  0% 0.00/1.55k [00:00<?, ?B/s]\n",
            "100% 1.55k/1.55k [00:00<00:00, 220kB/s]\n",
            "Downloading 99903f1587b2.png to /content/drive/MyDrive/kaggle/molecular-translation\n",
            "  0% 0.00/1.02k [00:00<?, ?B/s]\n",
            "100% 1.02k/1.02k [00:00<00:00, 139kB/s]\n",
            "Downloading 999005879294.png to /content/drive/MyDrive/kaggle/molecular-translation\n",
            "  0% 0.00/2.74k [00:00<?, ?B/s]\n",
            "100% 2.74k/2.74k [00:00<00:00, 375kB/s]\n",
            "Downloading 9990bbc89fe3.png to /content/drive/MyDrive/kaggle/molecular-translation\n",
            "  0% 0.00/1.73k [00:00<?, ?B/s]\n",
            "100% 1.73k/1.73k [00:00<00:00, 55.5kB/s]\n",
            "Downloading 99907fc6cb05.png to /content/drive/MyDrive/kaggle/molecular-translation\n",
            "  0% 0.00/2.01k [00:00<?, ?B/s]\n",
            "100% 2.01k/2.01k [00:00<00:00, 279kB/s]\n",
            "Downloading 9990b316a4a7.png to /content/drive/MyDrive/kaggle/molecular-translation\n",
            "  0% 0.00/1.22k [00:00<?, ?B/s]\n",
            "100% 1.22k/1.22k [00:00<00:00, 170kB/s]\n",
            "Downloading 9990e2ddbcbd.png to /content/drive/MyDrive/kaggle/molecular-translation\n",
            "  0% 0.00/2.82k [00:00<?, ?B/s]\n",
            "100% 2.82k/2.82k [00:00<00:00, 404kB/s]\n",
            "Downloading 999057d36bc6.png to /content/drive/MyDrive/kaggle/molecular-translation\n",
            "  0% 0.00/1.82k [00:00<?, ?B/s]\n",
            "100% 1.82k/1.82k [00:00<00:00, 253kB/s]\n",
            "Downloading 9990215e34db.png to /content/drive/MyDrive/kaggle/molecular-translation\n",
            "  0% 0.00/2.54k [00:00<?, ?B/s]\n",
            "100% 2.54k/2.54k [00:00<00:00, 354kB/s]\n",
            "Downloading 99905e8b3d16.png to /content/drive/MyDrive/kaggle/molecular-translation\n",
            "  0% 0.00/1.19k [00:00<?, ?B/s]\n",
            "100% 1.19k/1.19k [00:00<00:00, 169kB/s]\n",
            "Downloading 999043d64b88.png to /content/drive/MyDrive/kaggle/molecular-translation\n",
            "  0% 0.00/1.21k [00:00<?, ?B/s]\n",
            "100% 1.21k/1.21k [00:00<00:00, 168kB/s]\n",
            "Downloading 999057842188.png to /content/drive/MyDrive/kaggle/molecular-translation\n",
            "  0% 0.00/2.46k [00:00<?, ?B/s]\n",
            "100% 2.46k/2.46k [00:00<00:00, 345kB/s]\n",
            "Downloading 9910615e54df.png to /content/drive/MyDrive/kaggle/molecular-translation\n",
            "  0% 0.00/1.07k [00:00<?, ?B/s]\n",
            "100% 1.07k/1.07k [00:00<00:00, 145kB/s]\n",
            "Downloading 9910aea6e421.png to /content/drive/MyDrive/kaggle/molecular-translation\n",
            "  0% 0.00/928 [00:00<?, ?B/s]\n",
            "100% 928/928 [00:00<00:00, 130kB/s]\n",
            "Downloading 9910333f3b06.png to /content/drive/MyDrive/kaggle/molecular-translation\n",
            "  0% 0.00/1.84k [00:00<?, ?B/s]\n",
            "100% 1.84k/1.84k [00:00<00:00, 262kB/s]\n",
            "Downloading 99107b02b456.png to /content/drive/MyDrive/kaggle/molecular-translation\n",
            "  0% 0.00/3.18k [00:00<?, ?B/s]\n",
            "100% 3.18k/3.18k [00:00<00:00, 455kB/s]\n",
            "Downloading 99102b3ead35.png to /content/drive/MyDrive/kaggle/molecular-translation\n",
            "  0% 0.00/1.10k [00:00<?, ?B/s]\n",
            "100% 1.10k/1.10k [00:00<00:00, 150kB/s]\n",
            "Downloading 9910ce849e4b.png to /content/drive/MyDrive/kaggle/molecular-translation\n",
            "  0% 0.00/862 [00:00<?, ?B/s]\n",
            "100% 862/862 [00:00<00:00, 118kB/s]\n",
            "Downloading 9910380cca45.png to /content/drive/MyDrive/kaggle/molecular-translation\n",
            "  0% 0.00/3.09k [00:00<?, ?B/s]\n",
            "100% 3.09k/3.09k [00:00<00:00, 439kB/s]\n",
            "Downloading 9910a29baa15.png to /content/drive/MyDrive/kaggle/molecular-translation\n",
            "  0% 0.00/984 [00:00<?, ?B/s]\n",
            "100% 984/984 [00:00<00:00, 126kB/s]\n",
            "Downloading 99107f1b6f17.png to /content/drive/MyDrive/kaggle/molecular-translation\n",
            "  0% 0.00/2.26k [00:00<?, ?B/s]\n",
            "100% 2.26k/2.26k [00:00<00:00, 318kB/s]\n",
            "Downloading 991060a95acf.png to /content/drive/MyDrive/kaggle/molecular-translation\n",
            "  0% 0.00/1.79k [00:00<?, ?B/s]\n",
            "100% 1.79k/1.79k [00:00<00:00, 558kB/s]\n",
            "Downloading 9910df053b9a.png to /content/drive/MyDrive/kaggle/molecular-translation\n",
            "  0% 0.00/2.23k [00:00<?, ?B/s]\n",
            "100% 2.23k/2.23k [00:00<00:00, 306kB/s]\n",
            "Downloading 9910cc9f03e3.png to /content/drive/MyDrive/kaggle/molecular-translation\n",
            "  0% 0.00/1.47k [00:00<?, ?B/s]\n",
            "100% 1.47k/1.47k [00:00<00:00, 197kB/s]\n",
            "Downloading 991059354e34.png to /content/drive/MyDrive/kaggle/molecular-translation\n",
            "  0% 0.00/2.40k [00:00<?, ?B/s]\n",
            "100% 2.40k/2.40k [00:00<00:00, 336kB/s]\n",
            "Downloading 991086ad8d6b.png to /content/drive/MyDrive/kaggle/molecular-translation\n",
            "  0% 0.00/4.32k [00:00<?, ?B/s]\n",
            "100% 4.32k/4.32k [00:00<00:00, 1.35MB/s]\n",
            "Downloading 9910beaf572f.png to /content/drive/MyDrive/kaggle/molecular-translation\n",
            "  0% 0.00/4.01k [00:00<?, ?B/s]\n",
            "100% 4.01k/4.01k [00:00<00:00, 553kB/s]\n",
            "Downloading 9910150c4bc6.png to /content/drive/MyDrive/kaggle/molecular-translation\n",
            "  0% 0.00/1.84k [00:00<?, ?B/s]\n",
            "100% 1.84k/1.84k [00:00<00:00, 512kB/s]\n",
            "Downloading 9910e3542eae.png to /content/drive/MyDrive/kaggle/molecular-translation\n",
            "  0% 0.00/1.64k [00:00<?, ?B/s]\n",
            "100% 1.64k/1.64k [00:00<00:00, 226kB/s]\n",
            "Downloading 99108d5a7c93.png to /content/drive/MyDrive/kaggle/molecular-translation\n",
            "  0% 0.00/3.05k [00:00<?, ?B/s]\n",
            "100% 3.05k/3.05k [00:00<00:00, 432kB/s]\n",
            "Downloading 991063509eaa.png to /content/drive/MyDrive/kaggle/molecular-translation\n",
            "  0% 0.00/2.75k [00:00<?, ?B/s]\n",
            "100% 2.75k/2.75k [00:00<00:00, 369kB/s]\n",
            "Downloading 991072ea6b78.png to /content/drive/MyDrive/kaggle/molecular-translation\n",
            "  0% 0.00/946 [00:00<?, ?B/s]\n",
            "100% 946/946 [00:00<00:00, 213kB/s]\n",
            "Downloading 9900b78ab810.png to /content/drive/MyDrive/kaggle/molecular-translation\n",
            "  0% 0.00/1.27k [00:00<?, ?B/s]\n",
            "100% 1.27k/1.27k [00:00<00:00, 180kB/s]\n",
            "Downloading 990001c89532.png to /content/drive/MyDrive/kaggle/molecular-translation\n",
            "  0% 0.00/1.39k [00:00<?, ?B/s]\n",
            "100% 1.39k/1.39k [00:00<00:00, 186kB/s]\n",
            "Downloading 9901219878ff.png to /content/drive/MyDrive/kaggle/molecular-translation\n",
            "  0% 0.00/1.22k [00:00<?, ?B/s]\n",
            "100% 1.22k/1.22k [00:00<00:00, 162kB/s]\n",
            "Downloading 9900f4ce7dbe.png to /content/drive/MyDrive/kaggle/molecular-translation\n",
            "  0% 0.00/2.12k [00:00<?, ?B/s]\n",
            "100% 2.12k/2.12k [00:00<00:00, 587kB/s]\n",
            "Downloading 9900ab82163b.png to /content/drive/MyDrive/kaggle/molecular-translation\n",
            "  0% 0.00/3.12k [00:00<?, ?B/s]\n",
            "100% 3.12k/3.12k [00:00<00:00, 435kB/s]\n",
            "Downloading 99008a745859.png to /content/drive/MyDrive/kaggle/molecular-translation\n",
            "  0% 0.00/2.56k [00:00<?, ?B/s]\n",
            "100% 2.56k/2.56k [00:00<00:00, 357kB/s]\n",
            "Downloading 9900538a6c0e.png to /content/drive/MyDrive/kaggle/molecular-translation\n",
            "  0% 0.00/1.90k [00:00<?, ?B/s]\n",
            "100% 1.90k/1.90k [00:00<00:00, 401kB/s]\n",
            "Downloading 990051f98505.png to /content/drive/MyDrive/kaggle/molecular-translation\n",
            "  0% 0.00/1.00k [00:00<?, ?B/s]\n",
            "100% 1.00k/1.00k [00:00<00:00, 322kB/s]\n",
            "Downloading 99003f2323e9.png to /content/drive/MyDrive/kaggle/molecular-translation\n",
            "  0% 0.00/1.98k [00:00<?, ?B/s]\n",
            "100% 1.98k/1.98k [00:00<00:00, 503kB/s]\n",
            "Downloading 99001ea6c8c1.png to /content/drive/MyDrive/kaggle/molecular-translation\n",
            "  0% 0.00/2.54k [00:00<?, ?B/s]\n",
            "100% 2.54k/2.54k [00:00<00:00, 40.5kB/s]\n",
            "Downloading 9900771dd5a4.png to /content/drive/MyDrive/kaggle/molecular-translation\n",
            "  0% 0.00/2.00k [00:00<?, ?B/s]\n",
            "100% 2.00k/2.00k [00:00<00:00, 512kB/s]\n",
            "Downloading 990061e0041a.png to /content/drive/MyDrive/kaggle/molecular-translation\n",
            "  0% 0.00/1.07k [00:00<?, ?B/s]\n",
            "100% 1.07k/1.07k [00:00<00:00, 151kB/s]\n",
            "Downloading 990018c34d0a.png to /content/drive/MyDrive/kaggle/molecular-translation\n",
            "  0% 0.00/1.75k [00:00<?, ?B/s]\n",
            "100% 1.75k/1.75k [00:00<00:00, 248kB/s]\n",
            "Downloading 9900836ad067.png to /content/drive/MyDrive/kaggle/molecular-translation\n",
            "  0% 0.00/1.09k [00:00<?, ?B/s]\n",
            "100% 1.09k/1.09k [00:00<00:00, 35.2kB/s]\n",
            "Downloading 99003199c381.png to /content/drive/MyDrive/kaggle/molecular-translation\n",
            "  0% 0.00/1.11k [00:00<?, ?B/s]\n",
            "100% 1.11k/1.11k [00:00<00:00, 156kB/s]\n",
            "Downloading 9900c5296ffb.png to /content/drive/MyDrive/kaggle/molecular-translation\n",
            "  0% 0.00/2.64k [00:00<?, ?B/s]\n",
            "100% 2.64k/2.64k [00:00<00:00, 367kB/s]\n",
            "Downloading 9900b8fbaef7.png to /content/drive/MyDrive/kaggle/molecular-translation\n",
            "  0% 0.00/2.65k [00:00<?, ?B/s]\n",
            "100% 2.65k/2.65k [00:00<00:00, 271kB/s]\n",
            "Downloading 990059a3c5af.png to /content/drive/MyDrive/kaggle/molecular-translation\n",
            "  0% 0.00/1.30k [00:00<?, ?B/s]\n",
            "100% 1.30k/1.30k [00:00<00:00, 180kB/s]\n",
            "Downloading 9900df56bf50.png to /content/drive/MyDrive/kaggle/molecular-translation\n",
            "  0% 0.00/3.46k [00:00<?, ?B/s]\n",
            "100% 3.46k/3.46k [00:00<00:00, 255kB/s]\n",
            "Downloading 99004b1d3848.png to /content/drive/MyDrive/kaggle/molecular-translation\n",
            "  0% 0.00/954 [00:00<?, ?B/s]\n",
            "100% 954/954 [00:00<00:00, 126kB/s]\n",
            "Downloading 99205b8575cd.png to /content/drive/MyDrive/kaggle/molecular-translation\n",
            "  0% 0.00/1.03k [00:00<?, ?B/s]\n",
            "100% 1.03k/1.03k [00:00<00:00, 147kB/s]\n",
            "Downloading 99205ce6ce4e.png to /content/drive/MyDrive/kaggle/molecular-translation\n",
            "  0% 0.00/1.55k [00:00<?, ?B/s]\n",
            "100% 1.55k/1.55k [00:00<00:00, 221kB/s]\n",
            "Downloading 992088cbf46d.png to /content/drive/MyDrive/kaggle/molecular-translation\n",
            "  0% 0.00/1.17k [00:00<?, ?B/s]\n",
            "100% 1.17k/1.17k [00:00<00:00, 323kB/s]\n",
            "Downloading 992022291226.png to /content/drive/MyDrive/kaggle/molecular-translation\n",
            "  0% 0.00/1.45k [00:00<?, ?B/s]\n",
            "100% 1.45k/1.45k [00:00<00:00, 206kB/s]\n",
            "Downloading 9920bb60086e.png to /content/drive/MyDrive/kaggle/molecular-translation\n",
            "  0% 0.00/2.94k [00:00<?, ?B/s]\n",
            "100% 2.94k/2.94k [00:00<00:00, 407kB/s]\n",
            "Downloading 992037aeccb7.png to /content/drive/MyDrive/kaggle/molecular-translation\n",
            "  0% 0.00/2.92k [00:00<?, ?B/s]\n",
            "100% 2.92k/2.92k [00:00<00:00, 407kB/s]\n",
            "Downloading 99204c2e6593.png to /content/drive/MyDrive/kaggle/molecular-translation\n",
            "  0% 0.00/1.52k [00:00<?, ?B/s]\n",
            "100% 1.52k/1.52k [00:00<00:00, 271kB/s]\n",
            "Downloading 99202c009e32.png to /content/drive/MyDrive/kaggle/molecular-translation\n",
            "  0% 0.00/1.35k [00:00<?, ?B/s]\n",
            "100% 1.35k/1.35k [00:00<00:00, 179kB/s]\n",
            "Downloading 9920857be428.png to /content/drive/MyDrive/kaggle/molecular-translation\n",
            "  0% 0.00/2.13k [00:00<?, ?B/s]\n",
            "100% 2.13k/2.13k [00:00<00:00, 300kB/s]\n",
            "Downloading 99203758a80e.png to /content/drive/MyDrive/kaggle/molecular-translation\n",
            "  0% 0.00/1.09k [00:00<?, ?B/s]\n",
            "100% 1.09k/1.09k [00:00<00:00, 149kB/s]\n",
            "Downloading 9920780eba5a.png to /content/drive/MyDrive/kaggle/molecular-translation\n",
            "  0% 0.00/974 [00:00<?, ?B/s]\n",
            "100% 974/974 [00:00<00:00, 131kB/s]\n",
            "Downloading 9920b2e9a162.png to /content/drive/MyDrive/kaggle/molecular-translation\n",
            "  0% 0.00/792 [00:00<?, ?B/s]\n",
            "100% 792/792 [00:00<00:00, 107kB/s]\n",
            "Downloading 99207189695e.png to /content/drive/MyDrive/kaggle/molecular-translation\n",
            "  0% 0.00/2.19k [00:00<?, ?B/s]\n",
            "100% 2.19k/2.19k [00:00<00:00, 306kB/s]\n",
            "Downloading 992069d0133c.png to /content/drive/MyDrive/kaggle/molecular-translation\n",
            "  0% 0.00/1.32k [00:00<?, ?B/s]\n",
            "100% 1.32k/1.32k [00:00<00:00, 183kB/s]\n",
            "Downloading 9920ad3ec502.png to /content/drive/MyDrive/kaggle/molecular-translation\n",
            "  0% 0.00/1.95k [00:00<?, ?B/s]\n",
            "100% 1.95k/1.95k [00:00<00:00, 411kB/s]\n",
            "Downloading 9920a35a256a.png to /content/drive/MyDrive/kaggle/molecular-translation\n",
            "  0% 0.00/3.14k [00:00<?, ?B/s]\n",
            "100% 3.14k/3.14k [00:00<00:00, 432kB/s]\n",
            "Downloading 99206baa00ec.png to /content/drive/MyDrive/kaggle/molecular-translation\n",
            "  0% 0.00/3.54k [00:00<?, ?B/s]\n",
            "100% 3.54k/3.54k [00:00<00:00, 502kB/s]\n",
            "Downloading 99204f2fdb11.png to /content/drive/MyDrive/kaggle/molecular-translation\n",
            "  0% 0.00/866 [00:00<?, ?B/s]\n",
            "100% 866/866 [00:00<00:00, 264kB/s]\n",
            "Downloading 992032f86aff.png to /content/drive/MyDrive/kaggle/molecular-translation\n",
            "  0% 0.00/3.09k [00:00<?, ?B/s]\n",
            "100% 3.09k/3.09k [00:00<00:00, 437kB/s]\n",
            "Downloading 99202f4593c3.png to /content/drive/MyDrive/kaggle/molecular-translation\n",
            "  0% 0.00/916 [00:00<?, ?B/s]\n",
            "100% 916/916 [00:00<00:00, 247kB/s]\n",
            "Downloading 993036492d08.png to /content/drive/MyDrive/kaggle/molecular-translation\n",
            "  0% 0.00/1.90k [00:00<?, ?B/s]\n",
            "100% 1.90k/1.90k [00:00<00:00, 59.8kB/s]\n",
            "Downloading 993088ef1060.png to /content/drive/MyDrive/kaggle/molecular-translation\n",
            "  0% 0.00/2.59k [00:00<?, ?B/s]\n",
            "100% 2.59k/2.59k [00:00<00:00, 354kB/s]\n",
            "Downloading 993001c679e3.png to /content/drive/MyDrive/kaggle/molecular-translation\n",
            "  0% 0.00/1.70k [00:00<?, ?B/s]\n",
            "100% 1.70k/1.70k [00:00<00:00, 241kB/s]\n",
            "Downloading 99304bd101e2.png to /content/drive/MyDrive/kaggle/molecular-translation\n",
            "  0% 0.00/0.99k [00:00<?, ?B/s]\n",
            "100% 0.99k/0.99k [00:00<00:00, 274kB/s]\n",
            "Downloading 99308f82b5d5.png to /content/drive/MyDrive/kaggle/molecular-translation\n",
            "  0% 0.00/1.74k [00:00<?, ?B/s]\n",
            "100% 1.74k/1.74k [00:00<00:00, 246kB/s]\n",
            "Downloading 993015aad376.png to /content/drive/MyDrive/kaggle/molecular-translation\n",
            "  0% 0.00/1.33k [00:00<?, ?B/s]\n",
            "100% 1.33k/1.33k [00:00<00:00, 186kB/s]\n",
            "Downloading 99304e6932d6.png to /content/drive/MyDrive/kaggle/molecular-translation\n",
            "  0% 0.00/2.25k [00:00<?, ?B/s]\n",
            "100% 2.25k/2.25k [00:00<00:00, 316kB/s]\n",
            "Downloading 9930277d1f10.png to /content/drive/MyDrive/kaggle/molecular-translation\n",
            "  0% 0.00/1.23k [00:00<?, ?B/s]\n",
            "100% 1.23k/1.23k [00:00<00:00, 178kB/s]\n",
            "Downloading 993042feb3a7.png to /content/drive/MyDrive/kaggle/molecular-translation\n",
            "  0% 0.00/2.56k [00:00<?, ?B/s]\n",
            "100% 2.56k/2.56k [00:00<00:00, 365kB/s]\n",
            "Downloading 9930020bb25b.png to /content/drive/MyDrive/kaggle/molecular-translation\n",
            "  0% 0.00/1.02k [00:00<?, ?B/s]\n",
            "100% 1.02k/1.02k [00:00<00:00, 138kB/s]\n",
            "Downloading 99301cca8427.png to /content/drive/MyDrive/kaggle/molecular-translation\n",
            "  0% 0.00/2.33k [00:00<?, ?B/s]\n",
            "100% 2.33k/2.33k [00:00<00:00, 144kB/s]\n",
            "Downloading 9930c5c6628e.png to /content/drive/MyDrive/kaggle/molecular-translation\n",
            "  0% 0.00/1.03k [00:00<?, ?B/s]\n",
            "100% 1.03k/1.03k [00:00<00:00, 121kB/s]\n",
            "Downloading 99305d424c81.png to /content/drive/MyDrive/kaggle/molecular-translation\n",
            "  0% 0.00/2.93k [00:00<?, ?B/s]\n",
            "100% 2.93k/2.93k [00:00<00:00, 403kB/s]\n",
            "Downloading 993046236cd0.png to /content/drive/MyDrive/kaggle/molecular-translation\n",
            "  0% 0.00/1.04k [00:00<?, ?B/s]\n",
            "100% 1.04k/1.04k [00:00<00:00, 302kB/s]\n",
            "Downloading 9930241a09cc.png to /content/drive/MyDrive/kaggle/molecular-translation\n",
            "  0% 0.00/3.13k [00:00<?, ?B/s]\n",
            "100% 3.13k/3.13k [00:00<00:00, 101kB/s]\n",
            "Downloading 99300138d036.png to /content/drive/MyDrive/kaggle/molecular-translation\n",
            "  0% 0.00/3.03k [00:00<?, ?B/s]\n",
            "100% 3.03k/3.03k [00:00<00:00, 929kB/s]\n",
            "Downloading 99300acf1551.png to /content/drive/MyDrive/kaggle/molecular-translation\n",
            "  0% 0.00/2.69k [00:00<?, ?B/s]\n",
            "100% 2.69k/2.69k [00:00<00:00, 360kB/s]\n",
            "Downloading 9930045bb6e4.png to /content/drive/MyDrive/kaggle/molecular-translation\n",
            "  0% 0.00/2.54k [00:00<?, ?B/s]\n",
            "100% 2.54k/2.54k [00:00<00:00, 361kB/s]\n",
            "Downloading 99305f7d1e33.png to /content/drive/MyDrive/kaggle/molecular-translation\n",
            "  0% 0.00/1.55k [00:00<?, ?B/s]\n",
            "100% 1.55k/1.55k [00:00<00:00, 216kB/s]\n",
            "Downloading 9930845b82ff.png to /content/drive/MyDrive/kaggle/molecular-translation\n",
            "  0% 0.00/1.60k [00:00<?, ?B/s]\n",
            "100% 1.60k/1.60k [00:00<00:00, 228kB/s]\n",
            "429 - Too Many Requests\n"
          ],
          "name": "stdout"
        }
      ]
    },
    {
      "cell_type": "code",
      "metadata": {
        "id": "UoYYV_yIdhJB"
      },
      "source": [
        ""
      ],
      "execution_count": null,
      "outputs": []
    },
    {
      "cell_type": "markdown",
      "metadata": {
        "id": "2YfpJ5gIkq9h"
      },
      "source": [
        "# Setting up baseline"
      ]
    },
    {
      "cell_type": "code",
      "metadata": {
        "id": "AIBCFRUGktaj"
      },
      "source": [
        "import tensorflow as tf\n",
        "\n",
        "# You'll generate plots of attention in order to see which parts of an image\n",
        "# our model focuses on during captioning\n",
        "import matplotlib.pyplot as plt\n",
        "\n",
        "# Scikit-learn includes many helpful utilities\n",
        "from sklearn.model_selection import train_test_split\n",
        "from sklearn.utils import shuffle\n",
        "\n",
        "import collections\n",
        "import random\n",
        "import re\n",
        "import numpy as np\n",
        "import os\n",
        "import time\n",
        "import json\n",
        "from glob import glob\n",
        "from PIL import Image\n",
        "import pickle"
      ],
      "execution_count": null,
      "outputs": []
    },
    {
      "cell_type": "code",
      "metadata": {
        "id": "YjTYzJsEkxT4"
      },
      "source": [
        ""
      ],
      "execution_count": null,
      "outputs": []
    }
  ]
}